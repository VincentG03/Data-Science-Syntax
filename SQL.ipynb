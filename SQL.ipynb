{
 "cells": [
  {
   "cell_type": "markdown",
   "id": "a432c858",
   "metadata": {},
   "source": [
    "---"
   ]
  },
  {
   "cell_type": "markdown",
   "id": "f68f9427",
   "metadata": {},
   "source": [
    "## Relational vs Transactional Model"
   ]
  },
  {
   "cell_type": "markdown",
   "id": "64f43124",
   "metadata": {},
   "source": [
    "\n",
    "**Relational Model:**  \n",
    "- Organizes data into **tables (relations)** with rows and columns.\n",
    "- Each table has a schema with **defined data types** and **constraints** (like primary keys).\n",
    "- Tables can be related via **foreign keys**.\n",
    "- Supports **declarative querying** using SQL.\n",
    "\n",
    "**Transactional Model (ACID):**  \n",
    "Focuses on maintaining **data integrity** during database operations:\n",
    "- **A**tomicity: Each transaction is all-or-nothing.\n",
    "- **C**onsistency: Database moves from one valid state to another.\n",
    "- **I**solation: Concurrent transactions don't interfere with each other.\n",
    "- **D**urability: Once committed, changes are permanent, even if the system crashes.\n",
    "\n",
    "These models often **work together**: relational databases (like PostgreSQL or MySQL) enforce ACID properties through transactions.\n"
   ]
  },
  {
   "cell_type": "markdown",
   "id": "67671b7e",
   "metadata": {},
   "source": [
    "---"
   ]
  },
  {
   "cell_type": "markdown",
   "id": "810b775e",
   "metadata": {},
   "source": [
    "## Entity-Relationship (ER) Diagrams"
   ]
  },
  {
   "cell_type": "markdown",
   "id": "c67e5627",
   "metadata": {},
   "source": [
    "\n",
    "Entity-Relationship (ER) diagrams are **visual representations** of the data model and how different entities relate to each other in a relational database.\n",
    "\n",
    "They help with designing and understanding databases before actually implementing them in SQL.\n",
    "\n",
    "### Key Components:\n",
    "\n",
    "- **Entities:**  \n",
    "  Represent real-world objects or concepts (e.g., `Student`, `Course`).  \n",
    "  In the database, each entity becomes a **table**.\n",
    "\n",
    "- **Attributes:**  \n",
    "  Properties that describe an entity (e.g., `name`, `email`, `age` for a `Student`).  \n",
    "  Each attribute becomes a **column** in a table.\n",
    "\n",
    "- **Primary Key (PK):**  \n",
    "  A unique identifier for each record in a table. Every table should have one.\n",
    "\n",
    "- **Foreign Key (FK):**  \n",
    "  An attribute in one table that refers to the **primary key** in another. It’s how tables relate to one another.\n",
    "\n",
    "- **Relationships:**  \n",
    "  Define how entities are connected. They can be:\n",
    "  - **One-to-One (1:1):** One row in Table A maps to one row in Table B.\n",
    "  - **One-to-Many (1:N):** One row in Table A maps to many rows in Table B.\n",
    "  - **Many-to-Many (M:N):** Many rows in Table A map to many in Table B (usually implemented via a **junction table**).\n"
   ]
  },
  {
   "cell_type": "markdown",
   "id": "9a5c5b47",
   "metadata": {},
   "source": [
    "### Example ER Diagram (Text Form)"
   ]
  },
  {
   "cell_type": "code",
   "execution_count": null,
   "id": "7fe254fb",
   "metadata": {},
   "outputs": [],
   "source": [
    "\n",
    "[Student]\n",
    "- student_id (PK)\n",
    "- name\n",
    "- email\n",
    "\n",
    "[Course]\n",
    "- course_id (PK)\n",
    "- title\n",
    "- instructor\n",
    "\n",
    "[Enrollment]\n",
    "- student_id (FK)\n",
    "- course_id (FK)\n",
    "- enrollment_date\n"
   ]
  },
  {
   "cell_type": "markdown",
   "id": "8b4a3032",
   "metadata": {},
   "source": [
    "\n",
    "This creates a **many-to-many** relationship between `Student` and `Course`.\n",
    "\n",
    "ER diagrams are used during the **database design phase**, helping you understand relationships before writing any SQL.\n"
   ]
  },
  {
   "cell_type": "markdown",
   "id": "56fc65e4",
   "metadata": {},
   "source": [
    "---"
   ]
  },
  {
   "cell_type": "markdown",
   "id": "cc8c6877",
   "metadata": {},
   "source": [
    "## CREATE TABLE"
   ]
  },
  {
   "cell_type": "markdown",
   "id": "bbe471ca",
   "metadata": {},
   "source": [
    "\n",
    "The `CREATE TABLE` statement is used to define a new table in the database. You specify:\n",
    "- The table name\n",
    "- Each column's name and data type\n",
    "- Any constraints like primary keys, uniqueness, or not-null requirements\n"
   ]
  },
  {
   "cell_type": "markdown",
   "id": "cf1d64c5",
   "metadata": {},
   "source": [
    "### Syntax"
   ]
  },
  {
   "cell_type": "code",
   "execution_count": null,
   "id": "c7d3a16b",
   "metadata": {},
   "outputs": [],
   "source": [
    "\n",
    "CREATE TABLE table_name (\n",
    "    column1 data_type constraint,\n",
    "    column2 data_type constraint,\n",
    "    ...\n",
    ");\n"
   ]
  },
  {
   "cell_type": "markdown",
   "id": "1e938fc6",
   "metadata": {},
   "source": [
    "\n",
    "### Common Data Types\n",
    "- `INT`, `INTEGER`: Whole numbers\n",
    "- `FLOAT`, `DECIMAL`: Numbers with decimals (use `DECIMAL(p, s)` for precision)\n",
    "- `VARCHAR(n)`: Variable-length string (up to `n` characters)\n",
    "- `CHAR(n)`: Fixed-length string\n",
    "- `TEXT`: Large string/text\n",
    "- `DATE`: Calendar date\n",
    "- `TIMESTAMP`: Date + time\n",
    "- `BOOLEAN`: True/False values\n"
   ]
  },
  {
   "cell_type": "markdown",
   "id": "83d6cf6c",
   "metadata": {},
   "source": [
    "\n",
    "### Common Constraints\n",
    "- `PRIMARY KEY`: Uniquely identifies each row; cannot be NULL\n",
    "- `NOT NULL`: Value must be provided\n",
    "- `UNIQUE`: All values in this column must be distinct\n",
    "- `DEFAULT`: Sets a default value\n",
    "- `CHECK`: Validates that values meet a condition\n",
    "- `AUTO_INCREMENT`: Automatically increases value for each new row (MySQL)\n",
    "\n",
    "You can also define **foreign keys** (covered in the ER diagrams section) that link to another table.\n"
   ]
  },
  {
   "cell_type": "markdown",
   "id": "4045b9b1",
   "metadata": {},
   "source": [
    "### Example: Creating a Student Table"
   ]
  },
  {
   "cell_type": "code",
   "execution_count": null,
   "id": "6b813478",
   "metadata": {},
   "outputs": [],
   "source": [
    "\n",
    "CREATE TABLE Student (\n",
    "    student_id INT PRIMARY KEY,\n",
    "    names VARCHAR(100) NOT NULL,\n",
    "    email VARCHAR(100) UNIQUE,\n",
    "    birthdate DATE,\n",
    "    is_active BOOLEAN DEFAULT TRUE\n",
    ");\n"
   ]
  },
  {
   "cell_type": "markdown",
   "id": "c5d524c2",
   "metadata": {},
   "source": [
    "\n",
    "This creates a table named `Student` with:\n",
    "- A unique, non-null `student_id` as the primary key\n",
    "- A required `name` field\n",
    "- An `email` that must be unique if provided\n",
    "- A date of birth field\n",
    "- A boolean field that defaults to `TRUE`\n"
   ]
  },
  {
   "cell_type": "markdown",
   "id": "5f47c5a1",
   "metadata": {},
   "source": [
    "### Notes"
   ]
  },
  {
   "cell_type": "markdown",
   "id": "119adc1e",
   "metadata": {},
   "source": [
    "\n",
    "- Always choose the most appropriate data type; don’t overuse `TEXT` or `VARCHAR(255)` without reason  \n",
    "- Add `NOT NULL` to all fields that are required by your business logic  \n",
    "- When using `AUTO_INCREMENT` (MySQL) or `SERIAL` (PostgreSQL), you don’t need to insert values manually  \n"
   ]
  },
  {
   "cell_type": "markdown",
   "id": "421f0717",
   "metadata": {},
   "source": [
    "---"
   ]
  },
  {
   "cell_type": "markdown",
   "id": "ea3a07c7",
   "metadata": {},
   "source": [
    "## ALTER TABLE and DROP TABLE"
   ]
  },
  {
   "cell_type": "markdown",
   "id": "2d3f631d",
   "metadata": {},
   "source": [
    "\n",
    "The `ALTER TABLE` statement allows you to **modify the structure** of an existing table after it has been created.\n",
    "\n",
    "This is commonly used to:\n",
    "- Add or drop a column\n",
    "- Add or drop a constraint (e.g., primary key or unique constraint)\n",
    "- Rename a column (SQL dialect-specific)\n"
   ]
  },
  {
   "cell_type": "markdown",
   "id": "77e0f9c5",
   "metadata": {},
   "source": [
    "### Syntax: Adding and Dropping Columns"
   ]
  },
  {
   "cell_type": "code",
   "execution_count": null,
   "id": "e71ab354",
   "metadata": {},
   "outputs": [],
   "source": [
    "\n",
    "-- Add a new column\n",
    "ALTER TABLE table_name\n",
    "ADD column_name data_type constraint;\n",
    "\n",
    "-- Drop a column\n",
    "ALTER TABLE table_name\n",
    "DROP COLUMN column_name;\n"
   ]
  },
  {
   "cell_type": "markdown",
   "id": "2fa0d35e",
   "metadata": {},
   "source": [
    "### Syntax: Adding Constraints"
   ]
  },
  {
   "cell_type": "code",
   "execution_count": null,
   "id": "23860c72",
   "metadata": {},
   "outputs": [],
   "source": [
    "\n",
    "-- Add a new constraint\n",
    "ALTER TABLE table_name\n",
    "ADD CONSTRAINT constraint_name constraint_type (column_name);\n",
    "\n",
    "-- Example: Add a UNIQUE constraint\n",
    "ALTER TABLE Student\n",
    "ADD CONSTRAINT unique_email UNIQUE (email);\n"
   ]
  },
  {
   "cell_type": "markdown",
   "id": "88167ffa",
   "metadata": {},
   "source": [
    "### Syntax: Dropping Constraints"
   ]
  },
  {
   "cell_type": "code",
   "execution_count": null,
   "id": "4fd59618",
   "metadata": {},
   "outputs": [],
   "source": [
    "\n",
    "-- Drop a constraint (syntax varies slightly by SQL dialect)\n",
    "ALTER TABLE table_name\n",
    "DROP CONSTRAINT constraint_name;\n",
    "\n",
    "-- In MySQL, use DROP INDEX for UNIQUE\n",
    "ALTER TABLE table_name\n",
    "DROP INDEX index_name;\n"
   ]
  },
  {
   "cell_type": "markdown",
   "id": "d161dab2",
   "metadata": {},
   "source": [
    "### Notes"
   ]
  },
  {
   "cell_type": "markdown",
   "id": "11a50489",
   "metadata": {},
   "source": [
    "\n",
    "- Be **very careful** when dropping columns or constraints — data may be lost or application logic broken.\n",
    "- Some databases (like SQLite) do **not support dropping columns** directly; workarounds involve recreating the table.\n",
    "- Naming your constraints when creating the table makes them easier to alter or remove later.\n"
   ]
  },
  {
   "cell_type": "markdown",
   "id": "094a167b",
   "metadata": {},
   "source": [
    "### DROP TABLE"
   ]
  },
  {
   "cell_type": "markdown",
   "id": "5820a55e",
   "metadata": {},
   "source": [
    "\n",
    "The `DROP TABLE` statement permanently **removes a table and all of its data** from the database.\n",
    "\n",
    "### Syntax\n"
   ]
  },
  {
   "cell_type": "code",
   "execution_count": null,
   "id": "1682130d",
   "metadata": {},
   "outputs": [],
   "source": [
    "\n",
    "DROP TABLE table_name;\n"
   ]
  },
  {
   "cell_type": "markdown",
   "id": "fa4fd9bf",
   "metadata": {},
   "source": [
    "\n",
    "This action is **irreversible** — once a table is dropped, its data and structure are gone unless you have a backup.\n",
    "\n",
    "Some dialects support conditional drops:\n"
   ]
  },
  {
   "cell_type": "code",
   "execution_count": null,
   "id": "60d1f3dd",
   "metadata": {},
   "outputs": [],
   "source": [
    "\n",
    "-- Drop only if it exists\n",
    "DROP TABLE IF EXISTS table_name;\n"
   ]
  },
  {
   "cell_type": "markdown",
   "id": "9bce0176",
   "metadata": {},
   "source": [
    "---"
   ]
  },
  {
   "cell_type": "markdown",
   "id": "ee8a1f97",
   "metadata": {},
   "source": [
    "## INSERT INTO, UPDATE, and DELETE"
   ]
  },
  {
   "cell_type": "markdown",
   "id": "5d2175bc",
   "metadata": {},
   "source": [
    "\n",
    "These are the core operations used to manipulate data inside an existing table:\n",
    "\n",
    "- `INSERT INTO`: Add new rows to a table\n",
    "- `UPDATE`: Modify values in existing rows\n",
    "- `DELETE`: Remove rows from a table\n",
    "\n",
    "These operations are part of the **Data Manipulation Language (DML)** in SQL.\n"
   ]
  },
  {
   "cell_type": "markdown",
   "id": "e9d61c55",
   "metadata": {},
   "source": [
    "### INSERT INTO"
   ]
  },
  {
   "cell_type": "code",
   "execution_count": null,
   "id": "6947816d",
   "metadata": {},
   "outputs": [],
   "source": [
    "\n",
    "-- Insert a single row (specify columns)\n",
    "INSERT INTO Student (student_id, name, email, birthdate)\n",
    "VALUES (1, 'Alice', 'alice@example.com', '2000-01-01');\n",
    "\n",
    "-- Insert multiple rows\n",
    "INSERT INTO Student (student_id, name, email, birthdate)\n",
    "VALUES \n",
    "  (2, 'Bob', 'bob@example.com', '2001-03-14'),\n",
    "  (3, 'Charlie', 'charlie@example.com', '1999-07-22');\n"
   ]
  },
  {
   "cell_type": "markdown",
   "id": "6ff8c255",
   "metadata": {},
   "source": [
    "\n",
    "- Always specify the columns explicitly — especially if the table schema may change.\n",
    "- You can omit a column if it has a `DEFAULT` value or allows `NULL`.\n"
   ]
  },
  {
   "cell_type": "markdown",
   "id": "000bec8e",
   "metadata": {},
   "source": [
    "### UPDATE"
   ]
  },
  {
   "cell_type": "code",
   "execution_count": null,
   "id": "da2a2028",
   "metadata": {},
   "outputs": [],
   "source": [
    "\n",
    "-- Update a single record\n",
    "UPDATE Student\n",
    "SET email = 'alice_new@example.com'\n",
    "WHERE student_id = 1;\n",
    "\n",
    "-- Update multiple records with a condition\n",
    "UPDATE Student\n",
    "SET is_active = FALSE\n",
    "WHERE birthdate < '2000-01-01';\n"
   ]
  },
  {
   "cell_type": "markdown",
   "id": "7126a8c0",
   "metadata": {},
   "source": [
    "\n",
    "- The `WHERE` clause is **critical** — without it, all rows will be updated.\n",
    "- You can update one or many columns at once.\n"
   ]
  },
  {
   "cell_type": "markdown",
   "id": "c1c4654f",
   "metadata": {},
   "source": [
    "### DELETE"
   ]
  },
  {
   "cell_type": "code",
   "execution_count": null,
   "id": "665445d2",
   "metadata": {},
   "outputs": [],
   "source": [
    "\n",
    "-- Delete a single row\n",
    "DELETE FROM Student\n",
    "WHERE student_id = 3;\n",
    "\n",
    "-- Delete multiple rows matching a condition\n",
    "DELETE FROM Student\n",
    "WHERE is_active = FALSE;\n"
   ]
  },
  {
   "cell_type": "markdown",
   "id": "7f64a94b",
   "metadata": {},
   "source": [
    "\n",
    "- Again, the `WHERE` clause is essential.  \n",
    "  Omitting it will delete **all rows in the table**.\n",
    "- If you're unsure, do a `SELECT` with the same `WHERE` first to preview the affected rows.\n"
   ]
  },
  {
   "cell_type": "markdown",
   "id": "0aada2f4",
   "metadata": {},
   "source": [
    "---"
   ]
  },
  {
   "cell_type": "markdown",
   "id": "b2dcce9a",
   "metadata": {},
   "source": [
    "## SELECT and Basic Filtering with WHERE"
   ]
  },
  {
   "cell_type": "markdown",
   "id": "61415126",
   "metadata": {},
   "source": [
    "\n",
    "The `SELECT` statement is used to retrieve data from one or more tables. You can return all columns or specify which ones you want.\n",
    "\n",
    "### Syntax\n"
   ]
  },
  {
   "cell_type": "code",
   "execution_count": null,
   "id": "f0518d36",
   "metadata": {},
   "outputs": [],
   "source": [
    "\n",
    "-- Select all columns\n",
    "SELECT * FROM table_name;\n",
    "\n",
    "-- Select specific columns\n",
    "SELECT column1, column2 FROM table_name;\n"
   ]
  },
  {
   "cell_type": "markdown",
   "id": "96e8100f",
   "metadata": {},
   "source": [
    "\n",
    "The `WHERE` clause is used to filter rows based on a condition. Only rows that satisfy the condition will be returned.\n"
   ]
  },
  {
   "cell_type": "markdown",
   "id": "901ab0b9",
   "metadata": {},
   "source": [
    "### Basic Comparison Operators"
   ]
  },
  {
   "cell_type": "code",
   "execution_count": null,
   "id": "24ac760f",
   "metadata": {},
   "outputs": [],
   "source": [
    "\n",
    "=    -- Equal\n",
    "!=   -- Not equal (can also use <>)\n",
    ">    -- Greater than\n",
    "<    -- Less than\n",
    ">=   -- Greater than or equal to\n",
    "<=   -- Less than or equal to\n"
   ]
  },
  {
   "cell_type": "markdown",
   "id": "5f9d2b2d",
   "metadata": {},
   "source": [
    "### Example: Select students born after the year 2000"
   ]
  },
  {
   "cell_type": "code",
   "execution_count": null,
   "id": "1e3322b9",
   "metadata": {},
   "outputs": [],
   "source": [
    "\n",
    "SELECT name, birthdate\n",
    "FROM Student\n",
    "WHERE birthdate > '2000-01-01';\n"
   ]
  },
  {
   "cell_type": "markdown",
   "id": "158da8b0",
   "metadata": {},
   "source": [
    "\n",
    "### Logical Operators\n",
    "You can combine conditions using:\n",
    "- `AND`: Both conditions must be true\n",
    "- `OR`: At least one condition must be true\n",
    "- `NOT`: Negates the condition\n",
    "\n",
    "### Example: Select active students born after 2000\n"
   ]
  },
  {
   "cell_type": "code",
   "execution_count": null,
   "id": "8baec19a",
   "metadata": {},
   "outputs": [],
   "source": [
    "\n",
    "SELECT name\n",
    "FROM Student\n",
    "WHERE is_active = TRUE AND birthdate > '2000-01-01';\n"
   ]
  },
  {
   "cell_type": "markdown",
   "id": "db51985b",
   "metadata": {},
   "source": [
    "\n",
    "- Always use parentheses if you're combining multiple `AND` and `OR` conditions to avoid logic errors.\n"
   ]
  },
  {
   "cell_type": "markdown",
   "id": "a8cb9870",
   "metadata": {},
   "source": [
    "---"
   ]
  },
  {
   "cell_type": "markdown",
   "id": "2b8a8cb8",
   "metadata": {},
   "source": [
    "## Advanced Filtering: IN, NOT IN, BETWEEN, IS NULL"
   ]
  },
  {
   "cell_type": "markdown",
   "id": "61d200aa",
   "metadata": {},
   "source": [
    "\n",
    "Advanced filtering allows you to write more expressive and flexible `WHERE` conditions.\n",
    "\n",
    "These tools are often used in real-world queries and are critical for interviews.\n"
   ]
  },
  {
   "cell_type": "markdown",
   "id": "004bb903",
   "metadata": {},
   "source": [
    "### IN and NOT IN"
   ]
  },
  {
   "cell_type": "code",
   "execution_count": null,
   "id": "5982b923",
   "metadata": {},
   "outputs": [],
   "source": [
    "\n",
    "-- Select students from a specific list of names\n",
    "SELECT name\n",
    "FROM Student\n",
    "WHERE name IN ('Alice', 'Bob');\n",
    "\n",
    "-- Exclude students in a given list\n",
    "SELECT name\n",
    "FROM Student\n",
    "WHERE name NOT IN ('Charlie', 'Dave');\n"
   ]
  },
  {
   "cell_type": "markdown",
   "id": "8e8a1402",
   "metadata": {},
   "source": [
    "\n",
    "Use `IN` and `NOT IN` to test whether a value belongs to a **set of discrete options**.  \n",
    "This is cleaner and more efficient than using multiple `OR` or `AND` conditions.\n"
   ]
  },
  {
   "cell_type": "markdown",
   "id": "4f09605e",
   "metadata": {},
   "source": [
    "### BETWEEN"
   ]
  },
  {
   "cell_type": "code",
   "execution_count": null,
   "id": "0c553f11",
   "metadata": {},
   "outputs": [],
   "source": [
    "\n",
    "-- Select students born between two dates (inclusive)\n",
    "SELECT name, birthdate\n",
    "FROM Student\n",
    "WHERE birthdate BETWEEN '2000-01-01' AND '2001-12-31';\n"
   ]
  },
  {
   "cell_type": "markdown",
   "id": "5b08c522",
   "metadata": {},
   "source": [
    "\n",
    "`BETWEEN` is inclusive — both boundary values are included.\n",
    "It works with numeric, date, or time values.\n"
   ]
  },
  {
   "cell_type": "markdown",
   "id": "637c2aa2",
   "metadata": {},
   "source": [
    "### IS NULL and IS NOT NULL"
   ]
  },
  {
   "cell_type": "code",
   "execution_count": null,
   "id": "0fd7e4f2",
   "metadata": {},
   "outputs": [],
   "source": [
    "\n",
    "-- Find students with no email address\n",
    "SELECT name\n",
    "FROM Student\n",
    "WHERE email IS NULL;\n",
    "\n",
    "-- Find students who have provided an email\n",
    "SELECT name\n",
    "FROM Student\n",
    "WHERE email IS NOT NULL;\n"
   ]
  },
  {
   "cell_type": "markdown",
   "id": "f1cf3549",
   "metadata": {},
   "source": [
    "\n",
    "In SQL, `NULL` represents the absence of a value. You cannot use `=` or `!=` with `NULL` — always use `IS NULL` or `IS NOT NULL`.\n"
   ]
  },
  {
   "cell_type": "markdown",
   "id": "dcf9f56d",
   "metadata": {},
   "source": [
    "---"
   ]
  },
  {
   "cell_type": "markdown",
   "id": "4ece1888",
   "metadata": {},
   "source": [
    "## Wildcards and Pattern Matching with LIKE"
   ]
  },
  {
   "cell_type": "markdown",
   "id": "e10b7a04",
   "metadata": {},
   "source": [
    "\n",
    "SQL supports **pattern matching** using the `LIKE` operator, which is commonly used in `WHERE` clauses to filter text columns.\n",
    "\n",
    "`LIKE` works with two special wildcard characters:\n",
    "- `%`: Matches **zero or more** characters\n",
    "- `_`: Matches **exactly one** character\n"
   ]
  },
  {
   "cell_type": "markdown",
   "id": "b5300732",
   "metadata": {},
   "source": [
    "### Syntax"
   ]
  },
  {
   "cell_type": "code",
   "execution_count": null,
   "id": "f53d2464",
   "metadata": {},
   "outputs": [],
   "source": [
    "\n",
    "-- Find names starting with 'A'\n",
    "SELECT name\n",
    "FROM Student\n",
    "WHERE name LIKE 'A%';\n",
    "\n",
    "-- Find names ending with 'e'\n",
    "SELECT name\n",
    "FROM Student\n",
    "WHERE name LIKE '%e';\n",
    "\n",
    "-- Find names containing 'li'\n",
    "SELECT name\n",
    "FROM Student\n",
    "WHERE name LIKE '%li%';\n",
    "\n",
    "-- Find names with exactly 4 letters\n",
    "SELECT name\n",
    "FROM Student\n",
    "WHERE name LIKE '____';\n"
   ]
  },
  {
   "cell_type": "markdown",
   "id": "1951d39c",
   "metadata": {},
   "source": [
    "\n",
    "### Notes\n",
    "- Pattern matching is **case-insensitive** in some SQL dialects (e.g., MySQL), but **case-sensitive** in others (e.g., PostgreSQL unless using `ILIKE`)\n",
    "- Use `ESCAPE` if you need to search for literal `%` or `_` characters\n"
   ]
  },
  {
   "cell_type": "markdown",
   "id": "1c4d97c5",
   "metadata": {},
   "source": [
    "---"
   ]
  },
  {
   "cell_type": "markdown",
   "id": "42e7e5c3",
   "metadata": {},
   "source": [
    "## ORDER BY – Sorting Results"
   ]
  },
  {
   "cell_type": "markdown",
   "id": "860b69f1",
   "metadata": {},
   "source": [
    "\n",
    "The `ORDER BY` clause allows you to **sort query results** by one or more columns.\n",
    "\n",
    "By default, SQL sorts in **ascending (ASC)** order. You can also specify **descending (DESC)**.\n"
   ]
  },
  {
   "cell_type": "markdown",
   "id": "694a69c4",
   "metadata": {},
   "source": [
    "### Syntax"
   ]
  },
  {
   "cell_type": "code",
   "execution_count": null,
   "id": "f59a1d20",
   "metadata": {},
   "outputs": [],
   "source": [
    "\n",
    "-- Sort by one column ascending\n",
    "SELECT name, birthdate\n",
    "FROM Student\n",
    "ORDER BY birthdate;\n",
    "\n",
    "-- Sort by one column descending\n",
    "SELECT name, birthdate\n",
    "FROM Student\n",
    "ORDER BY birthdate DESC;\n",
    "\n",
    "-- Sort by multiple columns\n",
    "SELECT name, birthdate, email\n",
    "FROM Student\n",
    "ORDER BY birthdate ASC, name DESC;\n"
   ]
  },
  {
   "cell_type": "markdown",
   "id": "4641d099",
   "metadata": {},
   "source": [
    "\n",
    "You can also sort by:\n",
    "- **Column alias** (defined in the SELECT clause)\n",
    "- **Ordinal position** (the position of the column in the SELECT list)\n",
    "\n",
    "### Example: Sort using column alias\n"
   ]
  },
  {
   "cell_type": "code",
   "execution_count": null,
   "id": "1c5f2e17",
   "metadata": {},
   "outputs": [],
   "source": [
    "\n",
    "SELECT name, LENGTH(name) AS name_length\n",
    "FROM Student\n",
    "ORDER BY name_length DESC;\n"
   ]
  },
  {
   "cell_type": "markdown",
   "id": "3a471f0a",
   "metadata": {},
   "source": [
    "\n",
    "### Notes\n",
    "- Always place `ORDER BY` **at the end** of your query (after `WHERE`, `GROUP BY`, etc.)\n",
    "- When sorting by a column that can contain `NULL`, the position of nulls may vary by SQL dialect:\n",
    "  - Some treat `NULL` as **lowest**\n",
    "  - Some allow `NULLS FIRST` or `NULLS LAST` to control order\n"
   ]
  },
  {
   "cell_type": "markdown",
   "id": "d6af9d2d",
   "metadata": {},
   "source": [
    "---"
   ]
  },
  {
   "cell_type": "markdown",
   "id": "82122dac",
   "metadata": {},
   "source": [
    "## Math Operations in SQL"
   ]
  },
  {
   "cell_type": "markdown",
   "id": "ea2e078b",
   "metadata": {},
   "source": [
    "\n",
    "SQL supports arithmetic operations directly in queries. These can be used in the `SELECT` clause, `WHERE` clause, or `ORDER BY` clause.\n",
    "\n",
    "### Supported Operators\n",
    "- `+` : Addition\n",
    "- `-` : Subtraction\n",
    "- `*` : Multiplication\n",
    "- `/` : Division\n",
    "- `%` : Modulus (remainder; may not be supported in all databases)\n",
    "\n",
    "These operations work on numeric data types like `INT`, `FLOAT`, and `DECIMAL`.\n"
   ]
  },
  {
   "cell_type": "markdown",
   "id": "c5d6dd50",
   "metadata": {},
   "source": [
    "### Example: Add a calculated column to output"
   ]
  },
  {
   "cell_type": "code",
   "execution_count": null,
   "id": "ee99e5c8",
   "metadata": {},
   "outputs": [],
   "source": [
    "\n",
    "-- Assume we have a table with students and their scores\n",
    "SELECT name, score, score + 5 AS bonus_score\n",
    "FROM ExamResults;\n"
   ]
  },
  {
   "cell_type": "markdown",
   "id": "f43a0672",
   "metadata": {},
   "source": [
    "### Example: Use math in filtering"
   ]
  },
  {
   "cell_type": "code",
   "execution_count": null,
   "id": "466a5308",
   "metadata": {},
   "outputs": [],
   "source": [
    "\n",
    "-- Find students who scored more than 90 after adding 5 bonus points\n",
    "SELECT name, score\n",
    "FROM ExamResults\n",
    "WHERE score + 5 > 90;\n"
   ]
  },
  {
   "cell_type": "markdown",
   "id": "cb9552f0",
   "metadata": {},
   "source": [
    "\n",
    "### Notes\n",
    "- Most databases perform **integer division** if both operands are integers (e.g., `5 / 2 = 2`)\n",
    "- To force floating-point division, use a decimal literal: `5 / 2.0`\n",
    "- Be careful with division by zero — it will raise an error\n"
   ]
  },
  {
   "cell_type": "markdown",
   "id": "6d925fbd",
   "metadata": {},
   "source": [
    "---"
   ]
  },
  {
   "cell_type": "markdown",
   "id": "b3d4de38",
   "metadata": {},
   "source": [
    "## Aggregate Functions"
   ]
  },
  {
   "cell_type": "markdown",
   "id": "1f3bd828",
   "metadata": {},
   "source": [
    "\n",
    "Aggregate functions operate on **sets of rows** and return a single value. They are commonly used in reporting, analytics, and in combination with `GROUP BY`.\n",
    "\n",
    "### Common Aggregate Functions\n",
    "- `COUNT(*)`: Total number of rows\n",
    "- `COUNT(column)`: Number of non-null values in a column\n",
    "- `SUM(column)`: Total sum of a numeric column\n",
    "- `AVG(column)`: Average of a numeric column\n",
    "- `MIN(column)`: Smallest value in a column\n",
    "- `MAX(column)`: Largest value in a column\n"
   ]
  },
  {
   "cell_type": "markdown",
   "id": "a52f9276",
   "metadata": {},
   "source": [
    "### Examples"
   ]
  },
  {
   "cell_type": "code",
   "execution_count": null,
   "id": "87431d8d",
   "metadata": {},
   "outputs": [],
   "source": [
    "\n",
    "-- Count the number of students\n",
    "SELECT COUNT(*) AS total_students\n",
    "FROM Student;\n",
    "\n",
    "-- Count how many students have provided an email\n",
    "SELECT COUNT(email) AS students_with_email\n",
    "FROM Student;\n",
    "\n",
    "-- Find the average score\n",
    "SELECT AVG(score) AS average_score\n",
    "FROM ExamResults;\n",
    "\n",
    "-- Get the highest and lowest scores\n",
    "SELECT MAX(score) AS top_score, MIN(score) AS lowest_score\n",
    "FROM ExamResults;\n"
   ]
  },
  {
   "cell_type": "markdown",
   "id": "7c0a6041",
   "metadata": {},
   "source": [
    "\n",
    "### Notes\n",
    "- Aggregate functions **ignore NULL values** (except `COUNT(*)`)\n",
    "- You can use them **without GROUP BY** to summarize the entire table\n",
    "- Use **aliases** (e.g., `AS total_students`) to make output clearer\n"
   ]
  },
  {
   "cell_type": "markdown",
   "id": "2da26895",
   "metadata": {},
   "source": [
    "---"
   ]
  },
  {
   "cell_type": "markdown",
   "id": "05c52555",
   "metadata": {},
   "source": [
    "## GROUP BY and HAVING"
   ]
  },
  {
   "cell_type": "markdown",
   "id": "a7b235f8",
   "metadata": {},
   "source": [
    "\n",
    "The `GROUP BY` clause groups rows that have the same values in specified columns. It is typically used with **aggregate functions** to summarize data.\n",
    "\n",
    "The `HAVING` clause is used to filter **grouped results**, similar to how `WHERE` filters individual rows.\n",
    "\n",
    "### Syntax\n"
   ]
  },
  {
   "cell_type": "code",
   "execution_count": null,
   "id": "d574db6e",
   "metadata": {},
   "outputs": [],
   "source": [
    "\n",
    "SELECT column1, AGG_FUNC(column2)\n",
    "FROM table_name\n",
    "GROUP BY column1\n",
    "HAVING condition;\n"
   ]
  },
  {
   "cell_type": "markdown",
   "id": "44478be6",
   "metadata": {},
   "source": [
    "### Example: Count students by activity status"
   ]
  },
  {
   "cell_type": "code",
   "execution_count": null,
   "id": "bfcce9eb",
   "metadata": {},
   "outputs": [],
   "source": [
    "\n",
    "SELECT is_active, COUNT(*) AS count\n",
    "FROM Student\n",
    "GROUP BY is_active;\n"
   ]
  },
  {
   "cell_type": "markdown",
   "id": "c367e42c",
   "metadata": {},
   "source": [
    "### Example: Average score by exam and filter with HAVING"
   ]
  },
  {
   "cell_type": "code",
   "execution_count": null,
   "id": "7d911622",
   "metadata": {},
   "outputs": [],
   "source": [
    "\n",
    "SELECT exam_id, AVG(score) AS avg_score\n",
    "FROM ExamResults\n",
    "GROUP BY exam_id\n",
    "HAVING AVG(score) > 80;\n"
   ]
  },
  {
   "cell_type": "markdown",
   "id": "47da9b6b",
   "metadata": {},
   "source": [
    "\n",
    "### Notes\n",
    "- All columns in the `SELECT` clause must be **aggregated** or **included in the GROUP BY**\n",
    "- `HAVING` must be used for conditions on **aggregated values**, while `WHERE` is used for filtering **before grouping**\n",
    "- `GROUP BY` can be used with multiple columns\n"
   ]
  },
  {
   "cell_type": "markdown",
   "id": "a2a49c23",
   "metadata": {},
   "source": [
    "### Example: Group by multiple columns"
   ]
  },
  {
   "cell_type": "code",
   "execution_count": null,
   "id": "e3c683d2",
   "metadata": {},
   "outputs": [],
   "source": [
    "\n",
    "SELECT exam_id, is_passed, COUNT(*) AS count\n",
    "FROM ExamResults\n",
    "GROUP BY exam_id, is_passed;\n"
   ]
  },
  {
   "cell_type": "markdown",
   "id": "21ad55ae",
   "metadata": {},
   "source": [
    "---"
   ]
  },
  {
   "cell_type": "markdown",
   "id": "02f9938a",
   "metadata": {},
   "source": [
    "## CASE – Conditional Logic in SQL"
   ]
  },
  {
   "cell_type": "markdown",
   "id": "6d60f7e5",
   "metadata": {},
   "source": [
    "\n",
    "The `CASE` statement allows you to return values **based on conditions**, similar to `if-else` logic in programming.\n",
    "\n",
    "It's often used inside the `SELECT`, `ORDER BY`, or even `WHERE` clauses to apply conditional transformations.\n"
   ]
  },
  {
   "cell_type": "markdown",
   "id": "cce19ed5",
   "metadata": {},
   "source": [
    "### Syntax"
   ]
  },
  {
   "cell_type": "code",
   "execution_count": null,
   "id": "384a6919",
   "metadata": {},
   "outputs": [],
   "source": [
    "\n",
    "CASE \n",
    "    WHEN condition1 THEN result1\n",
    "    WHEN condition2 THEN result2\n",
    "    ...\n",
    "    ELSE default_result\n",
    "END\n"
   ]
  },
  {
   "cell_type": "markdown",
   "id": "c649ad3f",
   "metadata": {},
   "source": [
    "### Example: Categorize scores into grade bands"
   ]
  },
  {
   "cell_type": "code",
   "execution_count": null,
   "id": "75b4bb16",
   "metadata": {},
   "outputs": [],
   "source": [
    "\n",
    "SELECT student_id, score,\n",
    "  CASE \n",
    "    WHEN score >= 85 THEN 'High Distinction'\n",
    "    WHEN score >= 75 THEN 'Distinction'\n",
    "    WHEN score >= 65 THEN 'Credit'\n",
    "    WHEN score >= 50 THEN 'Pass'\n",
    "    ELSE 'Fail'\n",
    "  END AS grade\n",
    "FROM ExamResults;\n"
   ]
  },
  {
   "cell_type": "markdown",
   "id": "9af67d3a",
   "metadata": {},
   "source": [
    "\n",
    "### Notes\n",
    "- The `CASE` expression is evaluated **top-down**, and stops at the **first condition that is true**\n",
    "- You can use `CASE` in `SELECT`, `WHERE`, `ORDER BY`, `GROUP BY`, and even inside aggregate functions\n",
    "- The `ELSE` clause is optional, but good practice to include\n"
   ]
  },
  {
   "cell_type": "markdown",
   "id": "d6000b94",
   "metadata": {},
   "source": [
    "---"
   ]
  },
  {
   "cell_type": "markdown",
   "id": "87d1a8a3",
   "metadata": {},
   "source": [
    "## Subqueries"
   ]
  },
  {
   "cell_type": "markdown",
   "id": "441afc28",
   "metadata": {},
   "source": [
    "\n",
    "A **subquery** is a query nested inside another query. It is used to:\n",
    "- Provide values for filtering (`WHERE`)\n",
    "- Act as a derived table (`FROM`)\n",
    "- Generate values (`SELECT`)\n",
    "\n",
    "Subqueries are enclosed in parentheses `()` and can return a **single value**, **a column**, or even an entire table.\n",
    "\n",
    "They are often used when a query needs intermediate results before applying the final logic.\n"
   ]
  },
  {
   "cell_type": "markdown",
   "id": "fc58d331",
   "metadata": {},
   "source": [
    "### Subquery in WHERE clause"
   ]
  },
  {
   "cell_type": "code",
   "execution_count": null,
   "id": "d9d9eefd",
   "metadata": {},
   "outputs": [],
   "source": [
    "\n",
    "-- Select students with scores above the average\n",
    "SELECT student_id, score\n",
    "FROM ExamResults\n",
    "WHERE score > (\n",
    "    SELECT AVG(score) FROM ExamResults\n",
    ");\n"
   ]
  },
  {
   "cell_type": "markdown",
   "id": "59654ac0",
   "metadata": {},
   "source": [
    "### Subquery in SELECT clause"
   ]
  },
  {
   "cell_type": "code",
   "execution_count": null,
   "id": "650808eb",
   "metadata": {},
   "outputs": [],
   "source": [
    "\n",
    "-- Select student names and total number of students (same number for every row)\n",
    "SELECT name,\n",
    "  (SELECT COUNT(*) FROM Student) AS total_students\n",
    "FROM Student;\n"
   ]
  },
  {
   "cell_type": "markdown",
   "id": "9eed21ca",
   "metadata": {},
   "source": [
    "### Subquery in FROM clause (Derived Table)"
   ]
  },
  {
   "cell_type": "code",
   "execution_count": null,
   "id": "7cb4952c",
   "metadata": {},
   "outputs": [],
   "source": [
    "\n",
    "-- Calculate average score per student, then filter those above 85\n",
    "SELECT student_id, avg_score\n",
    "FROM (\n",
    "    SELECT student_id, AVG(score) AS avg_score\n",
    "    FROM ExamResults\n",
    "    GROUP BY student_id\n",
    ") AS student_averages\n",
    "WHERE avg_score > 85;\n"
   ]
  },
  {
   "cell_type": "markdown",
   "id": "54913c1f",
   "metadata": {},
   "source": [
    "\n",
    "### Notes\n",
    "- Subqueries in `WHERE` and `SELECT` must return **a single value** (scalar) unless used with `IN` or comparison operators\n",
    "- Subqueries in `FROM` must be given an **alias**\n",
    "- Be careful with performance — nested subqueries may be expensive\n"
   ]
  },
  {
   "cell_type": "markdown",
   "id": "ad690653",
   "metadata": {},
   "source": [
    "---"
   ]
  },
  {
   "cell_type": "markdown",
   "id": "a4988637",
   "metadata": {},
   "source": [
    "## Joins"
   ]
  },
  {
   "cell_type": "markdown",
   "id": "ca77bdc4",
   "metadata": {},
   "source": [
    "\n",
    "A **join** is used to combine rows from two or more tables based on a related column between them.\n",
    "\n",
    "To perform a join, you must:\n",
    "1. Know the **relationship** between tables (typically via primary key and foreign key)\n",
    "2. Specify **join condition(s)** using `ON` or `USING`\n",
    "\n",
    "There are several types of joins, each with different behavior depending on matching rows.\n"
   ]
  },
  {
   "cell_type": "markdown",
   "id": "75b43c24",
   "metadata": {},
   "source": [
    "### INNER JOIN"
   ]
  },
  {
   "cell_type": "code",
   "execution_count": null,
   "id": "8d3b0a1b",
   "metadata": {},
   "outputs": [],
   "source": [
    "\n",
    "-- Return students and their exam scores (only if they have scores)\n",
    "SELECT s.name, e.exam_id, e.score\n",
    "FROM Student s\n",
    "INNER JOIN ExamResults e ON s.student_id = e.student_id;\n"
   ]
  },
  {
   "cell_type": "markdown",
   "id": "af02fc51",
   "metadata": {},
   "source": [
    "\n",
    "Returns only rows where there is a match in **both** tables.\n"
   ]
  },
  {
   "cell_type": "markdown",
   "id": "0249672f",
   "metadata": {},
   "source": [
    "### LEFT JOIN (or LEFT OUTER JOIN)"
   ]
  },
  {
   "cell_type": "code",
   "execution_count": null,
   "id": "3fbc01a8",
   "metadata": {},
   "outputs": [],
   "source": [
    "\n",
    "-- Return all students, even if they haven't taken an exam\n",
    "SELECT s.name, e.exam_id, e.score\n",
    "FROM Student s\n",
    "LEFT JOIN ExamResults e ON s.student_id = e.student_id;\n"
   ]
  },
  {
   "cell_type": "markdown",
   "id": "9e4144c7",
   "metadata": {},
   "source": [
    "\n",
    "Returns all rows from the **left** table, and matching rows from the right.  \n",
    "If there's no match, the right side columns will be `NULL`.\n"
   ]
  },
  {
   "cell_type": "markdown",
   "id": "e30f0e2b",
   "metadata": {},
   "source": [
    "### RIGHT JOIN (or RIGHT OUTER JOIN)"
   ]
  },
  {
   "cell_type": "code",
   "execution_count": null,
   "id": "401ac1e1",
   "metadata": {},
   "outputs": [],
   "source": [
    "\n",
    "-- Return all exam records, even if student details are missing\n",
    "SELECT s.name, e.exam_id, e.score\n",
    "FROM Student s\n",
    "RIGHT JOIN ExamResults e ON s.student_id = e.student_id;\n"
   ]
  },
  {
   "cell_type": "markdown",
   "id": "7ae2bd3b",
   "metadata": {},
   "source": [
    "\n",
    "Returns all rows from the **right** table, and matching rows from the left.  \n",
    "Less common than `LEFT JOIN`, and not supported in all dialects (e.g., SQLite).\n"
   ]
  },
  {
   "cell_type": "markdown",
   "id": "b7f9e596",
   "metadata": {},
   "source": [
    "### FULL OUTER JOIN"
   ]
  },
  {
   "cell_type": "code",
   "execution_count": null,
   "id": "4c2fac11",
   "metadata": {},
   "outputs": [],
   "source": [
    "\n",
    "-- Return all students and all exam records, regardless of match\n",
    "SELECT s.name, e.exam_id, e.score\n",
    "FROM Student s\n",
    "FULL OUTER JOIN ExamResults e ON s.student_id = e.student_id;\n"
   ]
  },
  {
   "cell_type": "markdown",
   "id": "fc622c67",
   "metadata": {},
   "source": [
    "\n",
    "Returns all rows from **both** tables. Non-matching rows have `NULL` in missing fields.  \n",
    "Not supported in all SQL dialects (e.g., MySQL needs `UNION` workaround).\n"
   ]
  },
  {
   "cell_type": "markdown",
   "id": "57d2d4e6",
   "metadata": {},
   "source": [
    "### SELF JOIN"
   ]
  },
  {
   "cell_type": "code",
   "execution_count": null,
   "id": "72ccea42",
   "metadata": {},
   "outputs": [],
   "source": [
    "\n",
    "-- Example: Find pairs of students with the same birthdate\n",
    "SELECT A.name AS student1, B.name AS student2, A.birthdate\n",
    "FROM Student A\n",
    "JOIN Student B ON A.birthdate = B.birthdate\n",
    "WHERE A.student_id < B.student_id;\n"
   ]
  },
  {
   "cell_type": "markdown",
   "id": "d8f6bf37",
   "metadata": {},
   "source": [
    "\n",
    "A self join is a regular join, but the **same table is joined to itself**.  \n",
    "Use aliases to distinguish between the two instances.\n"
   ]
  },
  {
   "cell_type": "markdown",
   "id": "8aa9df8f",
   "metadata": {},
   "source": [
    "### CROSS JOIN"
   ]
  },
  {
   "cell_type": "code",
   "execution_count": null,
   "id": "02fa7c5a",
   "metadata": {},
   "outputs": [],
   "source": [
    "\n",
    "-- Pair every student with every exam (Cartesian product)\n",
    "SELECT s.name, e.exam_id\n",
    "FROM Student s\n",
    "CROSS JOIN Exam e;\n"
   ]
  },
  {
   "cell_type": "markdown",
   "id": "f28b011c",
   "metadata": {},
   "source": [
    "\n",
    "Returns the **Cartesian product** of both tables (every row from A with every row from B).  \n",
    "Use with care — can return a very large number of rows.\n"
   ]
  },
  {
   "cell_type": "markdown",
   "id": "368a9cdb",
   "metadata": {},
   "source": [
    "---"
   ]
  },
  {
   "cell_type": "markdown",
   "id": "964d4ef3",
   "metadata": {},
   "source": [
    "## Aliases"
   ]
  },
  {
   "cell_type": "markdown",
   "id": "9c5eaa98",
   "metadata": {},
   "source": [
    "\n",
    "**Aliases** allow you to assign temporary names to columns or tables in a query.  \n",
    "They help improve **readability**, avoid naming conflicts, and are required in some cases (like subqueries or self-joins).\n",
    "\n",
    "Aliases do not change the actual table or column names in the database — they exist only for the duration of the query.\n"
   ]
  },
  {
   "cell_type": "markdown",
   "id": "3fc57476",
   "metadata": {},
   "source": [
    "### Column Aliases"
   ]
  },
  {
   "cell_type": "code",
   "execution_count": null,
   "id": "958a644b",
   "metadata": {},
   "outputs": [],
   "source": [
    "\n",
    "-- Rename a column in the output\n",
    "SELECT name AS student_name, birthdate AS dob\n",
    "FROM Student;\n"
   ]
  },
  {
   "cell_type": "markdown",
   "id": "f12fe3f3",
   "metadata": {},
   "source": [
    "\n",
    "You can also use aliases without the `AS` keyword (though using `AS` is clearer and preferred):\n"
   ]
  },
  {
   "cell_type": "code",
   "execution_count": null,
   "id": "087f0b6a",
   "metadata": {},
   "outputs": [],
   "source": [
    "\n",
    "SELECT name student_name, birthdate dob\n",
    "FROM Student;\n"
   ]
  },
  {
   "cell_type": "markdown",
   "id": "188b2205",
   "metadata": {},
   "source": [
    "### Table Aliases"
   ]
  },
  {
   "cell_type": "code",
   "execution_count": null,
   "id": "5ca032e6",
   "metadata": {},
   "outputs": [],
   "source": [
    "\n",
    "-- Use short names for tables to simplify joins\n",
    "SELECT s.name, e.exam_id\n",
    "FROM Student AS s\n",
    "JOIN ExamResults AS e ON s.student_id = e.student_id;\n"
   ]
  },
  {
   "cell_type": "markdown",
   "id": "8eeab3b8",
   "metadata": {},
   "source": [
    "\n",
    "Table aliases are especially useful in:\n",
    "- Joins involving multiple tables\n",
    "- Self-joins (same table referenced more than once)\n",
    "- Long or complex table names\n",
    "\n",
    "### Notes\n",
    "- Aliases can be used in `SELECT`, `FROM`, `WHERE`, `ORDER BY`, and subqueries\n",
    "- Always use table aliases in joins to make your queries easier to read\n",
    "- Avoid reusing the same alias for multiple things in a single query\n"
   ]
  },
  {
   "cell_type": "markdown",
   "id": "20008854",
   "metadata": {},
   "source": [
    "---"
   ]
  },
  {
   "cell_type": "markdown",
   "id": "45bc524d",
   "metadata": {},
   "source": [
    "## Set Operations: UNION, UNION ALL, INTERSECT, EXCEPT"
   ]
  },
  {
   "cell_type": "markdown",
   "id": "b4d2c9c6",
   "metadata": {},
   "source": [
    "\n",
    "Set operations are used to **combine the results of two or more `SELECT` queries** into a single result set.\n",
    "\n",
    "Each query involved in a set operation must:\n",
    "- Return the **same number of columns**\n",
    "- Have **compatible data types** in corresponding columns\n"
   ]
  },
  {
   "cell_type": "markdown",
   "id": "684111e5",
   "metadata": {},
   "source": [
    "### UNION"
   ]
  },
  {
   "cell_type": "code",
   "execution_count": null,
   "id": "1e80d2af",
   "metadata": {},
   "outputs": [],
   "source": [
    "\n",
    "-- Combine results and remove duplicates\n",
    "SELECT name FROM Students_A\n",
    "UNION\n",
    "SELECT name FROM Students_B;\n"
   ]
  },
  {
   "cell_type": "markdown",
   "id": "29a3e5c4",
   "metadata": {},
   "source": [
    "\n",
    "- Combines rows from both queries\n",
    "- Removes **duplicate rows** from the final result\n"
   ]
  },
  {
   "cell_type": "markdown",
   "id": "5176e402",
   "metadata": {},
   "source": [
    "### UNION ALL"
   ]
  },
  {
   "cell_type": "code",
   "execution_count": null,
   "id": "5dcf5839",
   "metadata": {},
   "outputs": [],
   "source": [
    "\n",
    "-- Combine results and keep duplicates\n",
    "SELECT name FROM Students_A\n",
    "UNION ALL\n",
    "SELECT name FROM Students_B;\n"
   ]
  },
  {
   "cell_type": "markdown",
   "id": "895154ca",
   "metadata": {},
   "source": [
    "\n",
    "- Combines rows from both queries\n",
    "- **Keeps all duplicates**\n",
    "- Faster than `UNION` since no duplicate check is needed\n"
   ]
  },
  {
   "cell_type": "markdown",
   "id": "128ca4c3",
   "metadata": {},
   "source": [
    "### INTERSECT"
   ]
  },
  {
   "cell_type": "code",
   "execution_count": null,
   "id": "982e84eb",
   "metadata": {},
   "outputs": [],
   "source": [
    "\n",
    "-- Get only names that appear in both tables\n",
    "SELECT name FROM Students_A\n",
    "INTERSECT\n",
    "SELECT name FROM Students_B;\n"
   ]
  },
  {
   "cell_type": "markdown",
   "id": "484609be",
   "metadata": {},
   "source": [
    "\n",
    "- Returns only rows that exist in **both** result sets\n",
    "- Not supported in all databases (e.g., not in MySQL without workarounds)\n"
   ]
  },
  {
   "cell_type": "markdown",
   "id": "b759fc7a",
   "metadata": {},
   "source": [
    "### EXCEPT (or MINUS)"
   ]
  },
  {
   "cell_type": "code",
   "execution_count": null,
   "id": "189eb323",
   "metadata": {},
   "outputs": [],
   "source": [
    "\n",
    "-- Return names in Students_A but not in Students_B\n",
    "SELECT name FROM Students_A\n",
    "EXCEPT\n",
    "SELECT name FROM Students_B;\n"
   ]
  },
  {
   "cell_type": "markdown",
   "id": "39911e09",
   "metadata": {},
   "source": [
    "\n",
    "- Returns rows from the first query **that do not exist** in the second\n",
    "- `EXCEPT` is standard SQL; some databases like Oracle use `MINUS`\n"
   ]
  },
  {
   "cell_type": "markdown",
   "id": "9246aa76",
   "metadata": {},
   "source": [
    "### Notes"
   ]
  },
  {
   "cell_type": "markdown",
   "id": "722c0be8",
   "metadata": {},
   "source": [
    "\n",
    "- Use parentheses `()` if you're combining set operations with other clauses (e.g., `ORDER BY`)\n",
    "- You can chain multiple set operations:  \n",
    "  `(SELECT ...) UNION (SELECT ...) INTERSECT (SELECT ...)`\n",
    "- Always double-check column names and data types to avoid silent mismatches\n"
   ]
  },
  {
   "cell_type": "markdown",
   "id": "9652d919",
   "metadata": {},
   "source": [
    "---"
   ]
  },
  {
   "cell_type": "markdown",
   "id": "42181826",
   "metadata": {},
   "source": [
    "## String Manipulation"
   ]
  },
  {
   "cell_type": "markdown",
   "id": "d7382bee",
   "metadata": {},
   "source": [
    "\n",
    "SQL provides a variety of functions for processing and transforming string data. These are useful for formatting, extracting, or cleaning values.\n",
    "\n",
    "Common functions include: `CONCAT`, `SUBSTRING`, `UPPER`, `LOWER`, `TRIM`, `REPLACE`, and `LENGTH`.\n"
   ]
  },
  {
   "cell_type": "markdown",
   "id": "27e06848",
   "metadata": {},
   "source": [
    "### CONCAT"
   ]
  },
  {
   "cell_type": "code",
   "execution_count": null,
   "id": "e45e001c",
   "metadata": {},
   "outputs": [],
   "source": [
    "\n",
    "-- Combine first and last names into a full name\n",
    "SELECT CONCAT(first_name, ' ', last_name) AS full_name\n",
    "FROM Student;\n"
   ]
  },
  {
   "cell_type": "markdown",
   "id": "ca9f4337",
   "metadata": {},
   "source": [
    "Some SQL dialects (like PostgreSQL) support this alternate syntax:"
   ]
  },
  {
   "cell_type": "code",
   "execution_count": null,
   "id": "ed8ede22",
   "metadata": {},
   "outputs": [],
   "source": [
    "\n",
    "SELECT first_name || ' ' || last_name AS full_name\n",
    "FROM Student;\n"
   ]
  },
  {
   "cell_type": "markdown",
   "id": "48a48f76",
   "metadata": {},
   "source": [
    "### SUBSTRING (or SUBSTR)"
   ]
  },
  {
   "cell_type": "code",
   "execution_count": null,
   "id": "f8651baf",
   "metadata": {},
   "outputs": [],
   "source": [
    "\n",
    "-- Extract first 3 letters of a name\n",
    "SELECT SUBSTRING(name FROM 1 FOR 3) AS short_name\n",
    "FROM Student;\n",
    "\n",
    "-- Alternate syntax (used in some databases)\n",
    "SELECT SUBSTR(name, 1, 3) AS short_name\n",
    "FROM Student;\n"
   ]
  },
  {
   "cell_type": "markdown",
   "id": "b32aba9d",
   "metadata": {},
   "source": [
    "### UPPER and LOWER"
   ]
  },
  {
   "cell_type": "code",
   "execution_count": null,
   "id": "6543be96",
   "metadata": {},
   "outputs": [],
   "source": [
    "\n",
    "-- Convert names to uppercase or lowercase\n",
    "SELECT UPPER(name) AS name_upper, LOWER(name) AS name_lower\n",
    "FROM Student;\n"
   ]
  },
  {
   "cell_type": "markdown",
   "id": "dbde49f3",
   "metadata": {},
   "source": [
    "### TRIM, LTRIM, RTRIM"
   ]
  },
  {
   "cell_type": "code",
   "execution_count": null,
   "id": "4878e2af",
   "metadata": {},
   "outputs": [],
   "source": [
    "\n",
    "-- Remove whitespace from both ends of a string\n",
    "SELECT TRIM('   Alice   ') AS trimmed;\n",
    "\n",
    "-- Remove leading and trailing spaces\n",
    "SELECT LTRIM('   Alice') AS left_trimmed;\n",
    "SELECT RTRIM('Alice   ') AS right_trimmed;\n"
   ]
  },
  {
   "cell_type": "markdown",
   "id": "21bb6475",
   "metadata": {},
   "source": [
    "### LENGTH (or LEN)"
   ]
  },
  {
   "cell_type": "code",
   "execution_count": null,
   "id": "27255136",
   "metadata": {},
   "outputs": [],
   "source": [
    "\n",
    "-- Get the number of characters in a string\n",
    "SELECT name, LENGTH(name) AS name_length\n",
    "FROM Student;\n"
   ]
  },
  {
   "cell_type": "markdown",
   "id": "28b9b8af",
   "metadata": {},
   "source": [
    "### REPLACE"
   ]
  },
  {
   "cell_type": "code",
   "execution_count": null,
   "id": "1e2baba0",
   "metadata": {},
   "outputs": [],
   "source": [
    "\n",
    "-- Replace part of a string\n",
    "SELECT REPLACE(name, 'a', '*') AS censored_name\n",
    "FROM Student;\n"
   ]
  },
  {
   "cell_type": "markdown",
   "id": "15e8d5be",
   "metadata": {},
   "source": [
    "### Notes"
   ]
  },
  {
   "cell_type": "markdown",
   "id": "20943dd9",
   "metadata": {},
   "source": [
    "\n",
    "- Function names and syntax may vary slightly depending on SQL dialect  \n",
    "- Most string functions return `NULL` if input is `NULL`  \n",
    "- Always test with edge cases like empty strings or NULLs\n"
   ]
  },
  {
   "cell_type": "markdown",
   "id": "f4857383",
   "metadata": {},
   "source": [
    "---"
   ]
  },
  {
   "cell_type": "markdown",
   "id": "7a86dd66",
   "metadata": {},
   "source": [
    "## Date and Time Functions"
   ]
  },
  {
   "cell_type": "markdown",
   "id": "3e9812c1",
   "metadata": {},
   "source": [
    "\n",
    "SQL includes built-in functions to manipulate and query `DATE`, `TIME`, and `TIMESTAMP` values.  \n",
    "These functions vary slightly between SQL dialects, but the core functionality is similar.\n"
   ]
  },
  {
   "cell_type": "markdown",
   "id": "d103f37b",
   "metadata": {},
   "source": [
    "### NOW() / CURRENT_DATE / CURRENT_TIMESTAMP"
   ]
  },
  {
   "cell_type": "code",
   "execution_count": null,
   "id": "8b167ace",
   "metadata": {},
   "outputs": [],
   "source": [
    "\n",
    "-- Get current date and time\n",
    "SELECT NOW();                 -- Date + Time\n",
    "SELECT CURRENT_DATE;          -- Date only\n",
    "SELECT CURRENT_TIMESTAMP;     -- Same as NOW() in many systems\n"
   ]
  },
  {
   "cell_type": "markdown",
   "id": "5694083e",
   "metadata": {},
   "source": [
    "### DATE_ADD and DATE_SUB"
   ]
  },
  {
   "cell_type": "code",
   "execution_count": null,
   "id": "6cb406f7",
   "metadata": {},
   "outputs": [],
   "source": [
    "\n",
    "-- Add or subtract intervals (MySQL syntax)\n",
    "SELECT DATE_ADD('2024-01-01', INTERVAL 10 DAY);\n",
    "SELECT DATE_SUB('2024-01-01', INTERVAL 1 MONTH);\n"
   ]
  },
  {
   "cell_type": "markdown",
   "id": "99b4ad79",
   "metadata": {},
   "source": [
    "### DATEDIFF"
   ]
  },
  {
   "cell_type": "code",
   "execution_count": null,
   "id": "285684e0",
   "metadata": {},
   "outputs": [],
   "source": [
    "\n",
    "-- Get number of days between two dates (MySQL / SQL Server)\n",
    "SELECT DATEDIFF('2024-03-01', '2024-01-01');   -- Returns 60\n"
   ]
  },
  {
   "cell_type": "markdown",
   "id": "8497b483",
   "metadata": {},
   "source": [
    "### EXTRACT (or DATE_PART)"
   ]
  },
  {
   "cell_type": "code",
   "execution_count": null,
   "id": "3c4deeb0",
   "metadata": {},
   "outputs": [],
   "source": [
    "\n",
    "-- Extract parts of a date (year, month, etc.)\n",
    "SELECT EXTRACT(YEAR FROM birthdate) AS birth_year\n",
    "FROM Student;\n",
    "\n",
    "-- PostgreSQL alternate: DATE_PART\n",
    "SELECT DATE_PART('month', birthdate) AS birth_month\n",
    "FROM Student;\n"
   ]
  },
  {
   "cell_type": "markdown",
   "id": "0ba832bc",
   "metadata": {},
   "source": [
    "### TO_CHAR / FORMAT / STRFTIME"
   ]
  },
  {
   "cell_type": "code",
   "execution_count": null,
   "id": "a58ec2c6",
   "metadata": {},
   "outputs": [],
   "source": [
    "\n",
    "-- Format a date (PostgreSQL / Oracle)\n",
    "SELECT TO_CHAR(NOW(), 'YYYY-MM-DD');\n",
    "\n",
    "-- SQL Server equivalent\n",
    "SELECT FORMAT(GETDATE(), 'yyyy-MM-dd');\n",
    "\n",
    "-- SQLite example\n",
    "SELECT STRFTIME('%Y-%m-%d', 'now');\n"
   ]
  },
  {
   "cell_type": "markdown",
   "id": "11c1c9b3",
   "metadata": {},
   "source": [
    "### Notes"
   ]
  },
  {
   "cell_type": "markdown",
   "id": "6f99c14b",
   "metadata": {},
   "source": [
    "\n",
    "- Date functions vary more than most other SQL functions — always check syntax for your SQL engine  \n",
    "- Timestamps include both date and time, but can often be cast or truncated to date  \n",
    "- Always ensure consistent **time zones** if working across servers or locations\n"
   ]
  },
  {
   "cell_type": "markdown",
   "id": "f3e82f69",
   "metadata": {},
   "source": [
    "---"
   ]
  },
  {
   "cell_type": "markdown",
   "id": "30fcf8ab",
   "metadata": {},
   "source": [
    "## CAST – Data Type Conversion"
   ]
  },
  {
   "cell_type": "markdown",
   "id": "0b5dbd5d",
   "metadata": {},
   "source": [
    "\n",
    "The `CAST()` function is used to explicitly convert a value from one data type to another.\n",
    "\n",
    "It is often used when:\n",
    "- Comparing values of different types (e.g., `INT` vs `VARCHAR`)\n",
    "- Formatting numeric or date values\n",
    "- Ensuring type compatibility in joins or calculations\n"
   ]
  },
  {
   "cell_type": "markdown",
   "id": "2ab59345",
   "metadata": {},
   "source": [
    "### Syntax"
   ]
  },
  {
   "cell_type": "code",
   "execution_count": null,
   "id": "a64714a9",
   "metadata": {},
   "outputs": [],
   "source": [
    "\n",
    "CAST(expression AS target_data_type)\n"
   ]
  },
  {
   "cell_type": "markdown",
   "id": "b9f18eb6",
   "metadata": {},
   "source": [
    "### Example: Convert integer to string"
   ]
  },
  {
   "cell_type": "code",
   "execution_count": null,
   "id": "b7e6d81d",
   "metadata": {},
   "outputs": [],
   "source": [
    "\n",
    "SELECT CAST(123 AS VARCHAR) AS string_value;\n"
   ]
  },
  {
   "cell_type": "markdown",
   "id": "6ef0205a",
   "metadata": {},
   "source": [
    "### Example: Convert date to string"
   ]
  },
  {
   "cell_type": "code",
   "execution_count": null,
   "id": "2da60810",
   "metadata": {},
   "outputs": [],
   "source": [
    "\n",
    "SELECT CAST(CURRENT_DATE AS VARCHAR) AS date_text;\n"
   ]
  },
  {
   "cell_type": "markdown",
   "id": "14f50d80",
   "metadata": {},
   "source": [
    "### Example: Convert string to integer"
   ]
  },
  {
   "cell_type": "code",
   "execution_count": null,
   "id": "f9b36d86",
   "metadata": {},
   "outputs": [],
   "source": [
    "\n",
    "SELECT CAST('42' AS INT) AS int_value;\n"
   ]
  },
  {
   "cell_type": "markdown",
   "id": "fc1023de",
   "metadata": {},
   "source": [
    "\n",
    "You can also use `::` shorthand in some dialects (like PostgreSQL):\n"
   ]
  },
  {
   "cell_type": "code",
   "execution_count": null,
   "id": "6ecdafff",
   "metadata": {},
   "outputs": [],
   "source": [
    "\n",
    "SELECT '2024-01-01'::DATE;\n"
   ]
  },
  {
   "cell_type": "markdown",
   "id": "db175952",
   "metadata": {},
   "source": [
    "### Notes"
   ]
  },
  {
   "cell_type": "markdown",
   "id": "1b503cbd",
   "metadata": {},
   "source": [
    "\n",
    "- Always use `CAST()` when implicit conversion is unreliable or ambiguous  \n",
    "- Invalid conversions (e.g., casting 'abc' to INT) will raise errors  \n",
    "- SQL Server also supports `CONVERT()`, but `CAST()` is ANSI-standard and more portable  \n",
    "- In many cases, casting is required when using functions like `GROUP BY` or `JOIN` across different types\n"
   ]
  },
  {
   "cell_type": "markdown",
   "id": "ea128491",
   "metadata": {},
   "source": [
    "---"
   ]
  },
  {
   "cell_type": "markdown",
   "id": "54134366",
   "metadata": {},
   "source": [
    "## LIMIT and OFFSET – Restricting and Paginating Results"
   ]
  },
  {
   "cell_type": "markdown",
   "id": "e65e9853",
   "metadata": {},
   "source": [
    "\n",
    "The `LIMIT` clause is used to **restrict the number of rows returned** by a query.\n",
    "\n",
    "The `OFFSET` clause skips a given number of rows before starting to return results. Together, they are commonly used for **pagination** (e.g., displaying results page by page).\n",
    "\n",
    "Note: Not all SQL dialects support these clauses natively (e.g., SQL Server uses `TOP` and `OFFSET FETCH`).\n"
   ]
  },
  {
   "cell_type": "markdown",
   "id": "36f430d9",
   "metadata": {},
   "source": [
    "### LIMIT only"
   ]
  },
  {
   "cell_type": "code",
   "execution_count": null,
   "id": "ec34efb8",
   "metadata": {},
   "outputs": [],
   "source": [
    "\n",
    "-- Return only the first 5 rows\n",
    "SELECT * FROM Student\n",
    "LIMIT 5;\n"
   ]
  },
  {
   "cell_type": "markdown",
   "id": "25672a91",
   "metadata": {},
   "source": [
    "### LIMIT with OFFSET"
   ]
  },
  {
   "cell_type": "code",
   "execution_count": null,
   "id": "0b5395ae",
   "metadata": {},
   "outputs": [],
   "source": [
    "\n",
    "-- Skip the first 5 rows and return the next 5\n",
    "SELECT * FROM Student\n",
    "LIMIT 5 OFFSET 5;\n"
   ]
  },
  {
   "cell_type": "markdown",
   "id": "1edfe7e3",
   "metadata": {},
   "source": [
    "### Pagination Example"
   ]
  },
  {
   "cell_type": "code",
   "execution_count": null,
   "id": "6bb7da16",
   "metadata": {},
   "outputs": [],
   "source": [
    "\n",
    "-- Page 1 (rows 0–9)\n",
    "SELECT * FROM Student\n",
    "LIMIT 10 OFFSET 0;\n",
    "\n",
    "-- Page 2 (rows 10–19)\n",
    "SELECT * FROM Student\n",
    "LIMIT 10 OFFSET 10;\n"
   ]
  },
  {
   "cell_type": "markdown",
   "id": "38c5b929",
   "metadata": {},
   "source": [
    "### SQL Server Equivalent"
   ]
  },
  {
   "cell_type": "code",
   "execution_count": null,
   "id": "d6329d49",
   "metadata": {},
   "outputs": [],
   "source": [
    "\n",
    "-- Use TOP (SQL Server)\n",
    "SELECT TOP 10 * FROM Student;\n",
    "\n",
    "-- Use OFFSET FETCH (SQL Server 2012+)\n",
    "SELECT * FROM Student\n",
    "ORDER BY student_id\n",
    "OFFSET 10 ROWS FETCH NEXT 10 ROWS ONLY;\n"
   ]
  },
  {
   "cell_type": "markdown",
   "id": "c8729ed7",
   "metadata": {},
   "source": [
    "### Notes"
   ]
  },
  {
   "cell_type": "markdown",
   "id": "6febda96",
   "metadata": {},
   "source": [
    "\n",
    "- Always use `ORDER BY` when using `LIMIT` or `OFFSET` to ensure consistent row order  \n",
    "- Be cautious with large OFFSET values — performance may degrade as skipped rows increase  \n",
    "- For performance-critical pagination, consider using **keyset pagination** with `WHERE` clauses\n"
   ]
  }
 ],
 "metadata": {
  "kernelspec": {
   "display_name": "SQL",
   "language": "sql",
   "name": "jupyter-sql"
  },
  "language_info": {
   "file_extension": ".sql",
   "mimetype": "application/octet-stream",
   "name": "sql"
  }
 },
 "nbformat": 4,
 "nbformat_minor": 5
}
